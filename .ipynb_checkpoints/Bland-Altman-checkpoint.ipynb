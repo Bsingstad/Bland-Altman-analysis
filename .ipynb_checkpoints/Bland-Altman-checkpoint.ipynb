{
 "cells": [
  {
   "cell_type": "markdown",
   "metadata": {},
   "source": [
    "# Bland-Altman plot"
   ]
  },
  {
   "cell_type": "code",
   "execution_count": null,
   "metadata": {},
   "outputs": [],
   "source": [
    "import pandas as pd\n",
    "import matplotlib.pyplot as plt\n",
    "import numpy as np\n",
    "from numpy.random import random\n",
    "import seaborn as sns"
   ]
  },
  {
   "cell_type": "markdown",
   "metadata": {},
   "source": [
    "#### Koden i cellen under importerer alle nødvendige data og legger de i en hver sin \"dataframe\" eller tabell"
   ]
  },
  {
   "cell_type": "code",
   "execution_count": null,
   "metadata": {},
   "outputs": [],
   "source": [
    "# RMSSD Maxdiff\n",
    "EKG_RMSSD_maxdiff_outlierkorr=pd.read_excel('Tabell - HRV beregninger.xlsx', sheet_name=\"Sheet1\")\n",
    "PPG_RMSSD_maxdiff=pd.read_excel('Tabell - HRV beregninger.xlsx', sheet_name=\"Sheet2\")\n",
    "PPG_RMSSD_maxdiff_outlierkorr=pd.read_excel('Tabell - HRV beregninger.xlsx', sheet_name=\"Sheet3\")\n",
    "# SDNN Maxdiff\n",
    "EKG_SDNN_maxdiff_outlierkorr=pd.read_excel('Tabell - HRV beregninger.xlsx', sheet_name=\"Sheet4\")\n",
    "PPG_SDNN_maxdiff=pd.read_excel('Tabell - HRV beregninger.xlsx', sheet_name=\"Sheet5\")\n",
    "PPG_SDNN_maxdiff_outlierkorr=pd.read_excel('Tabell - HRV beregninger.xlsx', sheet_name=\"Sheet6\")\n",
    "# RMSSD footpoint\n",
    "EKG_RMSSD_foot_outlierkorr=pd.read_excel('Tabell - HRV beregninger.xlsx', sheet_name=\"Sheet7\")\n",
    "PPG_RMSSD_foot=pd.read_excel('Tabell - HRV beregninger.xlsx', sheet_name=\"Sheet8\")\n",
    "PPG_RMSSD_foot_outlierkorr=pd.read_excel('Tabell - HRV beregninger.xlsx', sheet_name=\"Sheet9\")\n",
    "# SDNN footpoint\n",
    "EKG_SDNN_foot_outlierkorr=pd.read_excel('Tabell - HRV beregninger.xlsx', sheet_name=\"Sheet10\")\n",
    "PPG_SDNN_foot=pd.read_excel('Tabell - HRV beregninger.xlsx', sheet_name=\"Sheet11\")\n",
    "PPG_SDNN_foot_outlierkorr=pd.read_excel('Tabell - HRV beregninger.xlsx', sheet_name=\"Sheet12\")"
   ]
  },
  {
   "cell_type": "markdown",
   "metadata": {},
   "source": [
    "## Fremgangsmåte\n",
    "#### Variabler: "
   ]
  },
  {
   "cell_type": "markdown",
   "metadata": {},
   "source": [
    "\\begin{equation*}\n",
    "S = punktene\\;i\\;Blant{-}Altman\\;plottet\\\\\n",
    "S_1 = HRV{-}verdier\\;fra\\;EKG\\\\\n",
    "S_2 = HRV{-}verdier\\;fra\\;PPG\n",
    "\\end{equation*}"
   ]
  },
  {
   "cell_type": "markdown",
   "metadata": {},
   "source": [
    "I litteraturen ser jeg at punktene i Blant-Altman plottet ofte er representert med denne ligningen "
   ]
  },
  {
   "cell_type": "markdown",
   "metadata": {},
   "source": [
    "\\begin{equation*}\n",
    "S(x,y) = (\\frac{S_1 + S_2}{2}), (S_1-S_2)\n",
    "\\end{equation*}"
   ]
  },
  {
   "cell_type": "markdown",
   "metadata": {},
   "source": [
    "I beregningene som er gjort her har jeg kun benyttet $S_1$ som x-koordinat (dette fordi jeg tenker at vi stoler mer på EKG-verdien som \"true value\")"
   ]
  },
  {
   "cell_type": "markdown",
   "metadata": {},
   "source": [
    "\\begin{equation*}\n",
    "S(x,y) = (S_1), (S_1-S_2)\n",
    "\\end{equation*}"
   ]
  },
  {
   "cell_type": "markdown",
   "metadata": {},
   "source": [
    "Videre beregner jeg gjennomsnittet av alle differansene"
   ]
  },
  {
   "cell_type": "markdown",
   "metadata": {},
   "source": [
    "\\begin{equation*}\n",
    "\\frac{1}{n}\\sum_{n=0}^{n-1}(S_{1_n}-S_{2_n}) \n",
    "\\end{equation*}"
   ]
  },
  {
   "cell_type": "markdown",
   "metadata": {},
   "source": [
    "og 95% \"Limits of agreement\" som jeg beregner ved å ta standard avviket til differansene og multiplisere det med 1.96  <cite>[(1)][1]</cite>\n",
    "\n",
    "[1]:https://en.wikipedia.org/wiki/Bland%E2%80%93Altman_plot"
   ]
  },
  {
   "cell_type": "markdown",
   "metadata": {},
   "source": [
    "\\begin{equation*}\n",
    "Limits\\;of\\;agreement = \\sigma * 1.96 \n",
    "\\end{equation*}"
   ]
  },
  {
   "cell_type": "code",
   "execution_count": null,
   "metadata": {},
   "outputs": [],
   "source": [
    "def plotblandaltman(x,y,title,sd_limit):\n",
    "    plt.figure(figsize=(20,8))\n",
    "    plt.suptitle(title)\n",
    "    if len(x.loc[0]) != len(y.loc[0]):\n",
    "    # sjekk at \"arrayene\" er like lange - gi feilmelding dersom de er forskjellige\n",
    "        raise ValueError('x does not have the same length as y')\n",
    "    else:\n",
    "        for i in range(len(x.loc[0])):\n",
    "            a = np.asarray(x.iloc[0:,i])\n",
    "            #a = np.asarray(x.iloc[0:,i])+np.asarray(y.iloc[0:,i])/2\n",
    "            b = np.asarray(x.iloc[0:,i])-np.asarray(y.iloc[0:,i])\n",
    "            mean_diff = np.mean(b)\n",
    "            std_diff = np.std(b, axis=0)\n",
    "            limit_of_agreement = sd_limit * std_diff\n",
    "            lower = mean_diff - limit_of_agreement\n",
    "            upper = mean_diff + limit_of_agreement\n",
    "\n",
    "            plt.subplot(2 ,3 , i+1)\n",
    "            plt.axhline(y=mean_diff, linestyle = \"--\", color = \"red\", label=\"mean diff\")\n",
    "            plt.axhline(y=lower, linestyle = \"--\", color = \"grey\", label=\"-1.96 SD\")\n",
    "            plt.axhline(y=upper, linestyle = \"--\", color = \"grey\", label=\"1.96 SD\")\n",
    "            plt.ylim(-1300, 1300)\n",
    "            sns.scatterplot(x=a,y=b, legend='brief')\n",
    "            plt.title(x.columns[i])\n",
    "            plt.show"
   ]
  },
  {
   "cell_type": "markdown",
   "metadata": {},
   "source": [
    "#### Her har jeg samlet alle dataene i en array slik at jeg senere kan iterere over dem med en FOR-loop"
   ]
  },
  {
   "cell_type": "code",
   "execution_count": null,
   "metadata": {},
   "outputs": [],
   "source": [
    "data=[\n",
    "    [EKG_RMSSD_maxdiff_outlierkorr,PPG_RMSSD_maxdiff,PPG_RMSSD_maxdiff_outlierkorr],\n",
    "    [EKG_SDNN_maxdiff_outlierkorr,PPG_SDNN_maxdiff,PPG_SDNN_maxdiff_outlierkorr],\n",
    "    [EKG_RMSSD_foot_outlierkorr,PPG_RMSSD_foot,PPG_RMSSD_foot_outlierkorr],\n",
    "    [EKG_SDNN_foot_outlierkorr, PPG_SDNN_foot, PPG_SDNN_foot_outlierkorr]\n",
    "]"
   ]
  },
  {
   "cell_type": "markdown",
   "metadata": {},
   "source": [
    "#### Titler til plot"
   ]
  },
  {
   "cell_type": "code",
   "execution_count": null,
   "metadata": {},
   "outputs": [],
   "source": [
    "Titles=['EKG RMSSD maxdiff Outliercorr VS PPG RMSSD maxdiff', 'EKG RMSSD maxdiff outliercorr VS PPG RMSSD maxdiff outliercorr', 'EKG SDNN maxdiff outliercorr VS PPG SDNN maxdiff', 'EKG SDNN maxdiff Outliercorr VS PPG SDNN maxdiff outliercorr', 'EKG RMSSD foot outliercorr VS PPG RMSSD foot','EKG RMSSD foot outliercorr VS PPG RMSSD foot outliercorr','EKG SDNN foot outliercorr VS PPG SDNN foot','EKG SDNN foot outliercorr VS PPG SDNN foot outliercorr']"
   ]
  },
  {
   "cell_type": "markdown",
   "metadata": {},
   "source": [
    "#### Lager Bland-Altman plot for alle dataene"
   ]
  },
  {
   "cell_type": "code",
   "execution_count": null,
   "metadata": {
    "scrolled": false
   },
   "outputs": [],
   "source": [
    "k = 0\n",
    "for i in range(4):\n",
    "    x=data[i]\n",
    "    for j in range(2):\n",
    "        plotblandaltman(x[0],x[j+1],Titles[k],1.96)\n",
    "        k += 1"
   ]
  },
  {
   "cell_type": "markdown",
   "metadata": {},
   "source": [
    "[1]:http://www.quotedb.com/quotes/2112"
   ]
  },
  {
   "cell_type": "markdown",
   "metadata": {},
   "source": [
    "[1] WIkipedia: https://en.wikipedia.org/wiki/Bland%E2%80%93Altman_plot"
   ]
  },
  {
   "cell_type": "code",
   "execution_count": null,
   "metadata": {},
   "outputs": [],
   "source": []
  }
 ],
 "metadata": {
  "hide_input": false,
  "kernelspec": {
   "display_name": "Python 3",
   "language": "python",
   "name": "python3"
  },
  "language_info": {
   "codemirror_mode": {
    "name": "ipython",
    "version": 3
   },
   "file_extension": ".py",
   "mimetype": "text/x-python",
   "name": "python",
   "nbconvert_exporter": "python",
   "pygments_lexer": "ipython3",
   "version": "3.7.1"
  },
  "toc": {
   "base_numbering": 1,
   "nav_menu": {},
   "number_sections": false,
   "sideBar": true,
   "skip_h1_title": false,
   "title_cell": "Table of Contents",
   "title_sidebar": "Contents",
   "toc_cell": false,
   "toc_position": {},
   "toc_section_display": true,
   "toc_window_display": true
  }
 },
 "nbformat": 4,
 "nbformat_minor": 2
}
