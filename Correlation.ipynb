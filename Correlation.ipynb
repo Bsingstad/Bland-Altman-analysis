{
 "cells": [
  {
   "cell_type": "code",
   "execution_count": 6,
   "metadata": {},
   "outputs": [],
   "source": [
    "import pandas as pd\n",
    "import matplotlib.pyplot as plt\n",
    "import numpy as np\n",
    "from numpy.random import random\n",
    "import seaborn as sns\n",
    "from scipy.stats import pearsonr"
   ]
  },
  {
   "cell_type": "code",
   "execution_count": 2,
   "metadata": {},
   "outputs": [],
   "source": [
    "# RMSSD Maxdiff\n",
    "EKG_RMSSD_maxdiff_outlierkorr=pd.read_excel('Tabell - HRV beregninger.xlsx', sheet_name=\"Sheet1\")\n",
    "PPG_RMSSD_maxdiff=pd.read_excel('Tabell - HRV beregninger.xlsx', sheet_name=\"Sheet2\")\n",
    "PPG_RMSSD_maxdiff_outlierkorr=pd.read_excel('Tabell - HRV beregninger.xlsx', sheet_name=\"Sheet3\")\n",
    "# SDNN Maxdiff\n",
    "EKG_SDNN_maxdiff_outlierkorr=pd.read_excel('Tabell - HRV beregninger.xlsx', sheet_name=\"Sheet4\")\n",
    "PPG_SDNN_maxdiff=pd.read_excel('Tabell - HRV beregninger.xlsx', sheet_name=\"Sheet5\")\n",
    "PPG_SDNN_maxdiff_outlierkorr=pd.read_excel('Tabell - HRV beregninger.xlsx', sheet_name=\"Sheet6\")\n",
    "# RMSSD footpoint\n",
    "EKG_RMSSD_foot_outlierkorr=pd.read_excel('Tabell - HRV beregninger.xlsx', sheet_name=\"Sheet7\")\n",
    "PPG_RMSSD_foot=pd.read_excel('Tabell - HRV beregninger.xlsx', sheet_name=\"Sheet8\")\n",
    "PPG_RMSSD_foot_outlierkorr=pd.read_excel('Tabell - HRV beregninger.xlsx', sheet_name=\"Sheet9\")\n",
    "# SDNN footpoint\n",
    "EKG_SDNN_foot_outlierkorr=pd.read_excel('Tabell - HRV beregninger.xlsx', sheet_name=\"Sheet10\")\n",
    "PPG_SDNN_foot=pd.read_excel('Tabell - HRV beregninger.xlsx', sheet_name=\"Sheet11\")\n",
    "PPG_SDNN_foot_outlierkorr=pd.read_excel('Tabell - HRV beregninger.xlsx', sheet_name=\"Sheet12\")"
   ]
  },
  {
   "cell_type": "code",
   "execution_count": 3,
   "metadata": {},
   "outputs": [
    {
     "data": {
      "text/plain": [
       "array([[ 1.       , -0.2632654],\n",
       "       [-0.2632654,  1.       ]])"
      ]
     },
     "execution_count": 3,
     "metadata": {},
     "output_type": "execute_result"
    }
   ],
   "source": [
    "np.corrcoef(EKG_RMSSD_maxdiff_outlierkorr['Hvile'],PPG_RMSSD_maxdiff['Hvile'])"
   ]
  },
  {
   "cell_type": "code",
   "execution_count": 4,
   "metadata": {},
   "outputs": [
    {
     "data": {
      "text/plain": [
       "array([68988.14187217])"
      ]
     },
     "execution_count": 4,
     "metadata": {},
     "output_type": "execute_result"
    }
   ],
   "source": [
    "np.correlate(EKG_RMSSD_maxdiff_outlierkorr['Hvile'],PPG_RMSSD_maxdiff['Hvile'])"
   ]
  },
  {
   "cell_type": "code",
   "execution_count": 7,
   "metadata": {},
   "outputs": [
    {
     "data": {
      "text/plain": [
       "(-0.26326539532597104, 0.3431103805900299)"
      ]
     },
     "execution_count": 7,
     "metadata": {},
     "output_type": "execute_result"
    }
   ],
   "source": [
    "pearsonr(EKG_RMSSD_maxdiff_outlierkorr['Hvile'],PPG_RMSSD_maxdiff['Hvile'])"
   ]
  },
  {
   "cell_type": "code",
   "execution_count": null,
   "metadata": {},
   "outputs": [],
   "source": []
  }
 ],
 "metadata": {
  "hide_input": false,
  "kernelspec": {
   "display_name": "Python 3",
   "language": "python",
   "name": "python3"
  },
  "language_info": {
   "codemirror_mode": {
    "name": "ipython",
    "version": 3
   },
   "file_extension": ".py",
   "mimetype": "text/x-python",
   "name": "python",
   "nbconvert_exporter": "python",
   "pygments_lexer": "ipython3",
   "version": "3.7.1"
  },
  "toc": {
   "base_numbering": 1,
   "nav_menu": {},
   "number_sections": true,
   "sideBar": true,
   "skip_h1_title": false,
   "title_cell": "Table of Contents",
   "title_sidebar": "Contents",
   "toc_cell": false,
   "toc_position": {},
   "toc_section_display": true,
   "toc_window_display": false
  }
 },
 "nbformat": 4,
 "nbformat_minor": 2
}
